{
  "nbformat": 4,
  "nbformat_minor": 0,
  "metadata": {
    "colab": {
      "provenance": []
    },
    "kernelspec": {
      "name": "python3",
      "display_name": "Python 3"
    },
    "language_info": {
      "name": "python"
    }
  },
  "cells": [
    {
      "cell_type": "code",
      "source": [
        "def unbounded_knapsack(target_sum, items):\n",
        "    dp = [0] * (target_sum + 1)\n",
        "    for i in range(1, target_sum + 1):\n",
        "        for item in items:\n",
        "            if item <= i:\n",
        "                dp[i] = max(dp[i], dp[i - item] + item)\n",
        "    return dp[target_sum]\n",
        "\n",
        "if __name__ == '__main__':\n",
        "    import sys\n",
        "    input = sys.stdin.read\n",
        "    data = input().split()\n",
        "\n",
        "    t = int(data[0])\n",
        "    index = 1\n",
        "\n",
        "    results = []\n",
        "\n",
        "    for _ in range(t):\n",
        "        n = int(data[index])\n",
        "        k = int(data[index + 1])\n",
        "        arr = list(map(int, data[index + 2 : index + 2 + n]))\n",
        "        index += 2 + n\n",
        "\n",
        "        result = unbounded_knapsack(k, arr)\n",
        "        results.append(result)\n",
        "\n",
        "    for res in results:\n",
        "        print(res)"
      ],
      "metadata": {
        "id": "XTQ-XRHa-uPO"
      },
      "execution_count": null,
      "outputs": []
    }
  ]
}