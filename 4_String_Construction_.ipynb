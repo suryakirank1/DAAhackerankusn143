{
  "nbformat": 4,
  "nbformat_minor": 0,
  "metadata": {
    "colab": {
      "provenance": []
    },
    "kernelspec": {
      "name": "python3",
      "display_name": "Python 3"
    },
    "language_info": {
      "name": "python"
    }
  },
  "cells": [
    {
      "cell_type": "code",
      "source": [
        "def count_unique_chars():\n",
        "    num_cases = int(input())  # Number of test cases\n",
        "\n",
        "    for _ in range(num_cases):\n",
        "        input_string = input()  # Read input string\n",
        "        unique_count = len(set(input_string))  # Count unique characters\n",
        "        print(unique_count)  # Print number of unique characters\n",
        "\n",
        "if __name__ == \"__main__\":\n",
        "    count_unique_chars()\n"
      ],
      "metadata": {
        "id": "XTQ-XRHa-uPO"
      },
      "execution_count": null,
      "outputs": []
    }
  ]
}